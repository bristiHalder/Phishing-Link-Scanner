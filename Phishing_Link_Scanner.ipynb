{
  "nbformat": 4,
  "nbformat_minor": 0,
  "metadata": {
    "colab": {
      "provenance": [],
      "authorship_tag": "ABX9TyPW3KeNIOtCgTYjrzDDPwy7",
      "include_colab_link": true
    },
    "kernelspec": {
      "name": "python3",
      "display_name": "Python 3"
    },
    "language_info": {
      "name": "python"
    }
  },
  "cells": [
    {
      "cell_type": "markdown",
      "metadata": {
        "id": "view-in-github",
        "colab_type": "text"
      },
      "source": [
        "<a href=\"https://colab.research.google.com/github/bristiHalder/Phishing-Link-Scanner/blob/main/Phishing_Link_Scanner.ipynb\" target=\"_parent\"><img src=\"https://colab.research.google.com/assets/colab-badge.svg\" alt=\"Open In Colab\"/></a>"
      ]
    },
    {
      "cell_type": "code",
      "source": [
        "!pip install tldextract"
      ],
      "metadata": {
        "colab": {
          "base_uri": "https://localhost:8080/"
        },
        "id": "qJBIEM5hzTIa",
        "outputId": "23cb51a7-3797-41b4-afe2-4283c3e4ca2e"
      },
      "execution_count": 2,
      "outputs": [
        {
          "output_type": "stream",
          "name": "stdout",
          "text": [
            "Collecting tldextract\n",
            "  Downloading tldextract-5.1.2-py3-none-any.whl (97 kB)\n",
            "\u001b[2K     \u001b[90m━━━━━━━━━━━━━━━━━━━━━━━━━━━━━━━━━━━━━━━━\u001b[0m \u001b[32m97.6/97.6 kB\u001b[0m \u001b[31m959.3 kB/s\u001b[0m eta \u001b[36m0:00:00\u001b[0m\n",
            "\u001b[?25hRequirement already satisfied: idna in /usr/local/lib/python3.10/dist-packages (from tldextract) (3.7)\n",
            "Requirement already satisfied: requests>=2.1.0 in /usr/local/lib/python3.10/dist-packages (from tldextract) (2.31.0)\n",
            "Collecting requests-file>=1.4 (from tldextract)\n",
            "  Downloading requests_file-2.1.0-py2.py3-none-any.whl (4.2 kB)\n",
            "Requirement already satisfied: filelock>=3.0.8 in /usr/local/lib/python3.10/dist-packages (from tldextract) (3.14.0)\n",
            "Requirement already satisfied: charset-normalizer<4,>=2 in /usr/local/lib/python3.10/dist-packages (from requests>=2.1.0->tldextract) (3.3.2)\n",
            "Requirement already satisfied: urllib3<3,>=1.21.1 in /usr/local/lib/python3.10/dist-packages (from requests>=2.1.0->tldextract) (2.0.7)\n",
            "Requirement already satisfied: certifi>=2017.4.17 in /usr/local/lib/python3.10/dist-packages (from requests>=2.1.0->tldextract) (2024.2.2)\n",
            "Installing collected packages: requests-file, tldextract\n",
            "Successfully installed requests-file-2.1.0 tldextract-5.1.2\n"
          ]
        }
      ]
    },
    {
      "cell_type": "code",
      "source": [
        "!pip install Levenshtein"
      ],
      "metadata": {
        "colab": {
          "base_uri": "https://localhost:8080/"
        },
        "id": "6q7dFt3Pzcu2",
        "outputId": "8fe338bf-93d4-489a-a63b-14d79de15c5a"
      },
      "execution_count": 4,
      "outputs": [
        {
          "output_type": "stream",
          "name": "stdout",
          "text": [
            "Collecting Levenshtein\n",
            "  Downloading Levenshtein-0.25.1-cp310-cp310-manylinux_2_17_x86_64.manylinux2014_x86_64.whl (177 kB)\n",
            "\u001b[2K     \u001b[90m━━━━━━━━━━━━━━━━━━━━━━━━━━━━━━━━━━━━━━━━\u001b[0m \u001b[32m177.4/177.4 kB\u001b[0m \u001b[31m1.6 MB/s\u001b[0m eta \u001b[36m0:00:00\u001b[0m\n",
            "\u001b[?25hCollecting rapidfuzz<4.0.0,>=3.8.0 (from Levenshtein)\n",
            "  Downloading rapidfuzz-3.9.1-cp310-cp310-manylinux_2_17_x86_64.manylinux2014_x86_64.whl (3.4 MB)\n",
            "\u001b[2K     \u001b[90m━━━━━━━━━━━━━━━━━━━━━━━━━━━━━━━━━━━━━━━━\u001b[0m \u001b[32m3.4/3.4 MB\u001b[0m \u001b[31m21.9 MB/s\u001b[0m eta \u001b[36m0:00:00\u001b[0m\n",
            "\u001b[?25hInstalling collected packages: rapidfuzz, Levenshtein\n",
            "Successfully installed Levenshtein-0.25.1 rapidfuzz-3.9.1\n"
          ]
        }
      ]
    },
    {
      "cell_type": "code",
      "execution_count": 22,
      "metadata": {
        "id": "wFPDdxSHzE38"
      },
      "outputs": [],
      "source": [
        "import tldextract #used to extract the subdomain, domain, and suffix (TLD) from a given URL.\n",
        "import Levenshtein as lv  #Levenshtein distance functions (used for measuring string similarity)"
      ]
    },
    {
      "cell_type": "code",
      "source": [
        "legitimate_domains = ['google.com', 'instagram.com', 'spotify.com']\n"
      ],
      "metadata": {
        "id": "3VVxLpWXzjtN"
      },
      "execution_count": 23,
      "outputs": []
    },
    {
      "cell_type": "code",
      "source": [
        "test_urls = [\n",
        "    'https://www.google.security-update.com',\n",
        "    'http://faceb00k.com/login',\n",
        "    'https://google.com',\n",
        "    'http://spotify.co'\n",
        "]"
      ],
      "metadata": {
        "id": "QqCG4_nizyYh"
      },
      "execution_count": 24,
      "outputs": []
    },
    {
      "cell_type": "code",
      "source": [
        "#This function takes a URL and uses tldextract to extract the subdomain, domain, and suffix. It then returns these components.\n",
        "def extract_domain_parts(url):\n",
        "  extracted = tldextract.extract(url)\n",
        "  return extracted.subdomain, extracted.domain, extracted.suffix"
      ],
      "metadata": {
        "id": "t0kC5wkD0Nru"
      },
      "execution_count": 26,
      "outputs": []
    },
    {
      "cell_type": "code",
      "source": [
        "#This function checks if the given 'domain' is similar to any of the 'legitimate_domains' using the Levenshtein ratio.\n",
        "def is_misspelled_domain(domain, legitimate_domains, threshold=0.9):\n",
        "  for legit_domain in legitimate_domains:\n",
        "    similarity = lv.ratio(domain, legit_domain)  #Calculates the similarity ratio between the 'domain' and each 'legit_domain'.\n",
        "    if similarity >= threshold:\n",
        "      return False #it's a legitimate domain\n",
        "  return True #No close match found, possibly misspelled"
      ],
      "metadata": {
        "id": "lDp65Qgx03VO"
      },
      "execution_count": 27,
      "outputs": []
    },
    {
      "cell_type": "code",
      "source": [
        "#This function determines if a URL is a potential phishing site.\n",
        "def is_phishing_url(url, legitimate_domains):\n",
        "  subdomain, domain, suffix = extract_domain_parts(url)\n",
        "\n",
        "  #Check if its a known legitimate domain\n",
        "  #Checks if the domain and suffix combination is in the list of legitimate_domains.\n",
        "  if f\"{domain},{suffix}\" in legitimate_domains:\n",
        "    return False\n",
        "\n",
        "  #Check for misspelled domain names\n",
        "  if is_misspelled_domain(domain, legitimate_domains):\n",
        "    print(f\"Potential phishing detected:{url}\")\n",
        "    return True\n",
        "\n",
        "  return False"
      ],
      "metadata": {
        "id": "d5zUFAJE0asg"
      },
      "execution_count": 28,
      "outputs": []
    },
    {
      "cell_type": "code",
      "source": [
        "#main script\n",
        "if __name__ == '__main__':\n",
        "  for url in test_urls:\n",
        "    is_phishing_url(url, legitimate_domains)"
      ],
      "metadata": {
        "colab": {
          "base_uri": "https://localhost:8080/"
        },
        "id": "Gfo983OZ0T8c",
        "outputId": "8fd78421-3c7c-422e-84b6-93569c62dc5c"
      },
      "execution_count": 29,
      "outputs": [
        {
          "output_type": "stream",
          "name": "stdout",
          "text": [
            "Potential phishing detected:https://www.google.security-update.com\n",
            "Potential phishing detected:http://faceb00k.com/login\n",
            "Potential phishing detected:https://google.com\n",
            "Potential phishing detected:http://spotify.co\n"
          ]
        }
      ]
    }
  ]
}